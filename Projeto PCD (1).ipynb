{
 "cells": [
  {
   "cell_type": "code",
   "execution_count": 4,
   "id": "70a3f8f1",
   "metadata": {},
   "outputs": [],
   "source": [
    "Glicina = {\"Abreviação\" : \"G\",\n",
    "            \"Códons\" : [\"GGU\", \"GGC\",\"GGA\",\"GGG\"],\n",
    "            \"Polaridade\": \"Apolar\",\n",
    "            \"pKa\": 2.32}\n"
   ]
  },
  {
   "cell_type": "code",
   "execution_count": 5,
   "id": "a0a50177",
   "metadata": {},
   "outputs": [],
   "source": [
    "Alanina = {\"Abreviação\" : \"A\",\n",
    "            \"Códons\" : [\"GCU\", \"GCA\",\"GCC\",\"GCG\"],\n",
    "            \"Polaridade\": \"Apolar\",\n",
    "            \"pKa\": 2.34}"
   ]
  },
  {
   "cell_type": "code",
   "execution_count": 6,
   "id": "c98aef55",
   "metadata": {},
   "outputs": [],
   "source": [
    "Valina = {\"Abreviação\" : \"V\",\n",
    "            \"Códons\" : [\"GUU\", \"GUA\",\"GUC\",\"GUG\"],\n",
    "            \"Polaridade\": \"Apolar\",\n",
    "            \"pKa\": 2.32}"
   ]
  },
  {
   "cell_type": "code",
   "execution_count": 7,
   "id": "8901dcfc",
   "metadata": {},
   "outputs": [],
   "source": [
    "Leucina = {\"Abreviação\" : \"L\",\n",
    "            \"Códons\" : [\"UUA\", \"UUG\",\"CUU\",\"CUC\",\"CUA\",\"CUG\"],\n",
    "            \"Polaridade\": \"Apolar\",\n",
    "            \"pKa\": 2.36}"
   ]
  },
  {
   "cell_type": "code",
   "execution_count": 8,
   "id": "fa58992d",
   "metadata": {},
   "outputs": [],
   "source": [
    "Isoleucina = {\"Abreviação\" : \"I\",\n",
    "            \"Códons\" : [\"AUU\", \"AUC\",\"AUA\"],\n",
    "            \"Polaridade\": \"Apolar\",\n",
    "            \"pKa\": 2.32}"
   ]
  },
  {
   "cell_type": "code",
   "execution_count": 9,
   "id": "89b900cb",
   "metadata": {},
   "outputs": [],
   "source": [
    "Metionina = {\"Abreviação\" : \"M\",\n",
    "            \"Códons\" : [\"AUG\"],\n",
    "            \"Polaridade\": \"Apolar\",\n",
    "            \"pKa\": 2.28}"
   ]
  },
  {
   "cell_type": "code",
   "execution_count": 10,
   "id": "1caf2c3c",
   "metadata": {},
   "outputs": [],
   "source": [
    "Fenilalanina = {\"Abreviação\" : \"F\",\n",
    "            \"Códons\" : [\"UUU\", \"UUC\"],\n",
    "            \"Polaridade\": \"Apolar\",\n",
    "            \"pKa\": 1.83}"
   ]
  },
  {
   "cell_type": "code",
   "execution_count": 11,
   "id": "ab024809",
   "metadata": {},
   "outputs": [],
   "source": [
    "Triptofano = {\"Abreviação\" : \"W\",\n",
    "            \"Códons\" : [\"UGG\"],\n",
    "            \"Polaridade\": \"Apolar\",\n",
    "            \"pKa\": 2.38}"
   ]
  },
  {
   "cell_type": "code",
   "execution_count": 12,
   "id": "53f0457f",
   "metadata": {},
   "outputs": [],
   "source": [
    "Prolina = {\"Abreviação\" : \"P\",\n",
    "            \"Códons\" : [\"CCU\",\"CCC\",\"CCA\",\"CCG\"],\n",
    "            \"Polaridade\": \"Apolar\",\n",
    "            \"pKa\": 1.99}"
   ]
  },
  {
   "cell_type": "code",
   "execution_count": 1,
   "id": "0627f2be",
   "metadata": {},
   "outputs": [],
   "source": [
    "Aminoacidos = {\n",
    "    \"A\": {\"Nome\": \"Alanina\", \"Abreviacao\": \"Ala\", \"Codons\": [\"GCU\", \"GCA\",\"GCC\",\"GCG\"], \"Polaridade\": \"Apolar\", \"pK1\": 2.35, \"pK2\": 9.87 , \"Massa\" :89.1 },\n",
    "    \"R\":{\"Nome\": \"Arginina\", \"Abreviacao\" : \"Arg\", \"Codons\" : [\"CGU\", \"CGC\",\"CGA\",\"CGG\"], \"Polaridade\": \"Polar Básico\", \"pK1\": 1.82, \"pK2\": 8.99, \"pK3\": 12.48 , \"Massa\" :174.2 },\n",
    "    \"N\":{\"Nome\":\"Asparagina\", \"Abreviacao\": \"Asn\", \"Codons\":[\"AAU\",\"AAC\"], \"Polaridade\":\"Polar\", \"pK1\":2.02, \"pK2\":8.80 , \"Massa\" :132.12 },\n",
    "    \"D\":{\"Nome\": \"Ácido Aspártico\", \"Abreviacao\" : \"Asp\", \"Codons\" : [\"GAU\", \"GAC\"], \"Polaridade\": \"Polar Ácido\", \"pK1\": 1.99, \"pK2\": 9.99, \"pK3\": 3.90 , \"Massa\" :133.11 },\n",
    "    \"C\":{\"Nome\":\"Cisteina\", \"Abreviacao\": \"Cys\", \"Codons\":[\"UGU\",\"UGC\"], \"Polaridade\":\"Polar\", \"pK1\":1.92, \"pK2\":10.70, \"pK3\":8.18 , \"Massa\" :121.16 },\n",
    "    \"E\":{\"Nome\": \"Ácido Glutâmico\", \"Abreviacao\" : \"Glu\", \"Codons\" : [\"GAA\", \"GAG\"], \"Polaridade\": \"Polar Ácido\", \"pK1\": 2.10, \"pK2\": 9.47, \"pK3\": 4.07 , \"Massa\" :147.13 },\n",
    "    \"Q\":{\"Nome\":\"Glutamina\", \"Abreviacao\": \"Gln\", \"Codons\":[\"CAA\",\"CAG\"], \"Polaridade\":\"Polar\", \"pK1\":2.17, \"pK2\":9.13 , \"Massa\" :146.15 },  \n",
    "    \"G\": {\"Nome\": \"Glicina\", \"Abreviacao\": \"Gly\", \"Codons\": [\"GGU\", \"GGC\", \"GGA\", \"GGG\"], \"Polaridade\": \"Apolar\", \"pK1\": 2.35, \"pK2\": 9.78 , \"Massa\" :75.07 },\n",
    " \n",
    "    \"H\":{\"Nome\": \"Histidina\", \"Abreviacao\" : \"His\", \"Codons\" : [\"CAU\", \"CAC\"], \"Polaridade\": \"Polar Básico\", \"pK1\": 1.80, \"pK2\": 9.33, \"pk3\": 6.04 , \"Massa\" :155.16 },\n",
    "    \"I\": {\"Nome\": \"Isoleucina\", \"Abreviacao\": \"Ile\", \"Codons\": [\"AUU\", \"AUC\",\"AUA\"], \"Polaridade\": \"Apolar\", \"pK1\": 2.32, \"pK2\": 9.76 , \"Massa\" :131.18 },\n",
    " \n",
    "    \"L\": {\"Nome\": \"Leucina\", \"Abreviacao\": \"Leu\", \"Codons\": [\"UUA\", \"UUG\",\"CUU\",\"CUC\",\"CUA\",\"CUG\"], \"Polaridade\": \"Apolar\", \"pK1\": 2.33, \"pK2\": 9.74 , \"Massa\" :131.18 },\n",
    " \n",
    "    \"K\":{\"Nome\": \"Lisina\", \"Abreviacao\" : \"Lys\", \"Codons\" : [\"AAA\", \"AAG\"], \"Polaridade\": \"Polar Básico\", \"pK1\": 2.16, \"pK2\": 9.06, \"pK3\": 10.54 , \"Massa\" :146.19 },\n",
    "    \"M\": {\"Nome\": \"Metionina\", \"Abreviacao\": \"Met\", \"Codons\": [\"AUG\"], \"Polaridade\": \"Apolar\", \"pK1\": 2.13, \"pK2\": 9.28 , \"Massa\" :149.21 },\n",
    " \n",
    "    \"F\": {\"Nome\": \"Fenilalanina\", \"Abreviacao\": \"Phe\", \"Codons\": [\"UUU\", \"UUC\"], \"Polaridade\": \"Apolar\", \"pK1\": 2.20, \"pK2\": 9.31 , \"Massa\" :165.19 },\n",
    " \n",
    "    \"P\": {\"Nome\": \"Prolina\", \"Abreviacao\": \"Pro\", \"Codons\": [\"CCU\",\"CCC\",\"CCA\",\"CCG\"], \"Polaridade\": \"Apolar\", \"pK1\": 1.95, \"pK2\": 10.64 , \"Massa\" :115.13 },\n",
    "    \"S\":{\"Nome\": \"Serina\", \"Abreviacao\": \"Ser\", \"Codons\": [\"UCU\", \"UCC\", \"UCA\", \"UCG\"], \"Polaridade\": \"Polar\", \"pK1\": 2.21, \"pK2\": 9.15 , \"Massa\" :105.09 },\n",
    "    \"T\":{\"Nome\": \"Treonina\", \"Abreviacao\": \"Thr\", \"Codons\": [\"ACU\",\"ACC\",\"ACA\",\"ACG\"], \"Polaridade\": \"Polar\", \"pK1\":2.09, \"pK2\":9.10, \"pK3\":13.6 , \"Massa\" :119.12 },\n",
    "    \"W\": {\"Nome\": \"Triptofano\", \"Abreviacao\": \"Trp\", \"Codons\" : [\"UGG\"], \"Polaridade\": \"Apolar\", \"pK1\": 2.46, \"pK2\": 9.41 , \"Massa\" :204.23 },\n",
    " \n",
    "    \"Y\":{\"Nome\":\"Tirosina\", \"Abreviacao\": \"Tyr\", \"Codons\":[\"UAU\",\"UAC\"], \"Polaridade\":\"Polar\", \"pK1\":2.20, \"pK2\":9.11, \"pK3\":10.10 , \"Massa\" :181.19 },\n",
    "    \"V\": {\"Nome\": \"Valina\", \"Abreviacao\": \"Val\", \"Codons\": [\"GUU\", \"GUA\",\"GUC\",\"GUG\"], \"Polaridade\": \"Apolar\", \"pK1\": 2.29, \"pK2\": 9.74 , \"Massa\" :117.15 },\n",
    "    \"Z\":{\"Nome\": \"Códon de parada\", \"Abreviacao\" : \"STOP\", \"Codons\" : [\"UAA\", \"UAG\",\"UGA\"] , \"Massa\" :0 },\n",
    "}"
   ]
  },
  {
   "cell_type": "code",
   "execution_count": 16,
   "id": "dec44ab3",
   "metadata": {},
   "outputs": [
    {
     "name": "stdout",
     "output_type": "stream",
     "text": [
      "Digite a sequência de códons (separados por espaços): uua gcu cgc\n",
      "Sequência de aminoácidos: Leu-Ala-Arg\n",
      "Massa total: 394.48\n"
     ]
    }
   ],
   "source": [
    "aminoacidos = { \"GCU\": {\"Abreviacao\": \"Ala\", \"Massa\": 89.1},\n",
    "    \"GCA\": {\"Abreviacao\": \"Ala\", \"Massa\": 89.1},\n",
    "    \"GCC\": {\"Abreviacao\": \"Ala\", \"Massa\": 89.1},\n",
    "    \"GCG\": {\"Abreviacao\": \"Ala\", \"Massa\": 89.1},\n",
    "    \"CGU\": {\"Abreviacao\": \"Arg\", \"Massa\": 174.2},\n",
    "    \"CGC\": {\"Abreviacao\": \"Arg\", \"Massa\": 174.2},\n",
    "    \"CGA\": {\"Abreviacao\": \"Arg\", \"Massa\": 174.2},\n",
    "    \"CGG\": {\"Abreviacao\": \"Arg\", \"Massa\": 174.2},\n",
    "    \"AGA\": {\"Abreviacao\": \"Arg\", \"Massa\": 174.2},\n",
    "    \"AGG\": {\"Abreviacao\": \"Arg\", \"Massa\": 174.2},\n",
    "    \"AAU\": {\"Abreviacao\": \"Asn\", \"Massa\": 132.12},\n",
    "    \"AAC\": {\"Abreviacao\": \"Asn\", \"Massa\": 132.12},\n",
    "    \"GAU\": {\"Abreviacao\": \"Asp\", \"Massa\": 133.11},\n",
    "    \"GAC\": {\"Abreviacao\": \"Asp\", \"Massa\": 133.11},\n",
    "    \"UGU\": {\"Abreviacao\": \"Cys\", \"Massa\": 121.16},\n",
    "    \"UGC\": {\"Abreviacao\": \"Cys\", \"Massa\": 121.16},\n",
    "    \"GAA\": {\"Abreviacao\": \"Glu\", \"Massa\": 147.13},\n",
    "    \"GAG\": {\"Abreviacao\": \"Glu\", \"Massa\": 147.13},\n",
    "    \"CAA\": {\"Abreviacao\": \"Gln\", \"Massa\": 146.15},\n",
    "    \"CAG\": {\"Abreviacao\": \"Gln\", \"Massa\": 146.15},\n",
    "    \"GGU\": {\"Abreviacao\": \"Gly\", \"Massa\": 75.07},\n",
    "    \"GGC\": {\"Abreviacao\": \"Gly\", \"Massa\": 75.07},\n",
    "    \"GGA\": {\"Abreviacao\": \"Gly\", \"Massa\": 75.07},\n",
    "    \"GGG\": {\"Abreviacao\": \"Gly\", \"Massa\": 75.07},\n",
    "    \"CAU\": {\"Abreviacao\": \"His\", \"Massa\": 155.16},\n",
    "    \"CAC\": {\"Abreviacao\": \"His\", \"Massa\": 155.16},\n",
    "    \"AUU\": {\"Abreviacao\": \"Ile\", \"Massa\": 131.18},\n",
    "    \"AUC\": {\"Abreviacao\": \"Ile\", \"Massa\": 131.18},\n",
    "    \"AUA\": {\"Abreviacao\": \"Ile\", \"Massa\": 131.18},\n",
    "    \"UUA\": {\"Abreviacao\": \"Leu\", \"Massa\": 131.18},\n",
    "    \"UUG\": {\"Abreviacao\": \"Leu\", \"Massa\": 131.18},\n",
    "    \"CUU\": {\"Abreviacao\": \"Leu\", \"Massa\": 131.18},\n",
    "    \"CUC\": {\"Abreviacao\": \"Leu\", \"Massa\": 131.18},\n",
    "    \"CUA\": {\"Abreviacao\": \"Leu\", \"Massa\": 131.18},\n",
    "    \"CUG\": {\"Abreviacao\": \"Leu\", \"Massa\": 131.18},\n",
    "    \"AAA\": {\"Abreviacao\": \"Lys\", \"Massa\": 146.19},\n",
    "    \"AAG\": {\"Abreviacao\": \"Lys\", \"Massa\": 146.19},\n",
    "    \"AUG\": {\"Abreviacao\": \"Met\", \"Massa\": 149.21},\n",
    "    \"UUU\": {\"Abreviacao\": \"Phe\", \"Massa\": 165.19},\n",
    "    \"UUC\": {\"Abreviacao\": \"Phe\", \"Massa\": 165.19},\n",
    "    \"CCU\": {\"Abreviacao\": \"Pro\", \"Massa\": 115.13},\n",
    "    \"CCC\": {\"Abreviacao\": \"Pro\", \"Massa\": 115.13},\n",
    "    \"CCA\": {\"Abreviacao\": \"Pro\", \"Massa\": 115.13},\n",
    "    \"CCG\": {\"Abreviacao\": \"Pro\", \"Massa\": 115.13},\n",
    "    \"UCU\": {\"Abreviacao\": \"Ser\", \"Massa\": 105.09},\n",
    "    \"UCC\": {\"Abreviacao\": \"Ser\", \"Massa\": 105.09},\n",
    "    \"UCA\": {\"Abreviacao\": \"Ser\", \"Massa\": 105.09},\n",
    "    \"UCG\": {\"Abreviacao\": \"Ser\", \"Massa\": 105.09},\n",
    "    \"AGU\": {\"Abreviacao\": \"Ser\", \"Massa\": 105.09},\n",
    "    \"AGC\": {\"Abreviacao\": \"Ser\", \"Massa\": 105.09},\n",
    "    \"ACU\": {\"Abreviacao\": \"Thr\", \"Massa\": 119.12},\n",
    "    \"ACC\": {\"Abreviacao\": \"Thr\", \"Massa\": 119.12},\n",
    "    \"ACA\": {\"Abreviacao\": \"Thr\", \"Massa\": 119.12},\n",
    "    \"ACG\": {\"Abreviacao\": \"Thr\", \"Massa\": 119.12},\n",
    "    \"UGG\": {\"Abreviacao\": \"Trp\", \"Massa\": 204.23},\n",
    "    \"UAU\": {\"Abreviacao\": \"Tyr\", \"Massa\": 181.19},\n",
    "    \"UAC\": {\"Abreviacao\": \"Tyr\", \"Massa\": 181.19},\n",
    "    \"GUU\": {\"Abreviacao\": \"Val\", \"Massa\": 117.15},\n",
    "    \"GUC\": {\"Abreviacao\": \"Val\", \"Massa\": 117.15},\n",
    "    \"GUA\": {\"Abreviacao\": \"Val\", \"Massa\": 117.15},\n",
    "    \"GUG\": {\"Abreviacao\": \"Val\", \"Massa\": 117.15},\n",
    "    \"UAA\": {\"Abreviacao\": \"STOP\", \"Massa\": 0},\n",
    "    \"UAG\": {\"Abreviacao\": \"STOP\", \"Massa\": 0},\n",
    "    \"UGA\": {\"Abreviacao\": \"STOP\", \"Massa\": 0},\n",
    "}\n",
    "\n",
    "def traduzir_sequencia(sequencia_codons):\n",
    "    codons = sequencia_codons.upper().split()  \n",
    "    aminoacidos_traduzidos = []\n",
    "    massa_total = 0\n",
    "    for codon in codons:\n",
    "        if codon in aminoacidos:\n",
    "            aminoacido = aminoacidos[codon][\"Abreviacao\"]\n",
    "            aminoacidos_traduzidos.append(aminoacido)\n",
    "            massa_total += aminoacidos[codon][\"Massa\"]\n",
    "        else:\n",
    "            aminoacidos_traduzidos.append(\"Digite um códon válido\")  \n",
    "\n",
    "    return \"-\".join(aminoacidos_traduzidos), massa_total\n",
    "\n",
    "\n",
    "\n",
    "sequencia_codons = input(\"Digite a sequência de códons (separados por espaços): \")\n",
    "\n",
    "\n",
    "sequencia_aminoacidos, massa_total = traduzir_sequencia(sequencia_codons)\n",
    "\n",
    "\n",
    "print(\"Sequência de aminoácidos:\", sequencia_aminoacidos)\n",
    "print(\"Massa total:\", massa_total)\n"
   ]
  },
  {
   "cell_type": "code",
   "execution_count": null,
   "id": "2a4a4027",
   "metadata": {},
   "outputs": [],
   "source": []
  },
  {
   "cell_type": "code",
   "execution_count": null,
   "id": "6ccbf415",
   "metadata": {},
   "outputs": [],
   "source": []
  }
 ],
 "metadata": {
  "kernelspec": {
   "display_name": "Python 3 (ipykernel)",
   "language": "python",
   "name": "python3"
  },
  "language_info": {
   "codemirror_mode": {
    "name": "ipython",
    "version": 3
   },
   "file_extension": ".py",
   "mimetype": "text/x-python",
   "name": "python",
   "nbconvert_exporter": "python",
   "pygments_lexer": "ipython3",
   "version": "3.11.5"
  }
 },
 "nbformat": 4,
 "nbformat_minor": 5
}
